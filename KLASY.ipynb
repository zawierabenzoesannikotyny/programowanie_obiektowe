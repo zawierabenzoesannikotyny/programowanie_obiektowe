{
 "cells": [
  {
   "cell_type": "code",
   "execution_count": 13,
   "metadata": {},
   "outputs": [
    {
     "name": "stdout",
     "output_type": "stream",
     "text": [
      "This bus has 30 seats, 6 wheels and weighs 1000 kg and is going 1 km/h\n",
      "This bus has 30 seats, 6 wheels and weighs 1000 kg and is going 0 km/h\n"
     ]
    }
   ],
   "source": [
    "class vehicle:\n",
    "    def __init__(self, number_of_wheels, weight):\n",
    "        self.number_of_wheels = number_of_wheels\n",
    "        self.weight = weight\n",
    "        self.speed = 0\n",
    "\n",
    "    def accelerate(self):\n",
    "        self.speed += 1\n",
    "\n",
    "    def brake(self):\n",
    "        self.speed -= 1\n",
    "\n",
    "\n",
    "class car(vehicle):\n",
    "    def __init__(self, weight, number_of_doors):\n",
    "        super().__init__(4, weight)\n",
    "        self.number_of_doors = number_of_doors\n",
    "\n",
    "\n",
    "class bicycle(vehicle):\n",
    "    def __init__(self, weight, type):\n",
    "        super().__init__(2, weight)\n",
    "        self.type = type\n",
    "\n",
    "\n",
    "class bus(vehicle):\n",
    "    def __init__(self, weight, number_of_seats):\n",
    "        super().__init__(6, weight)\n",
    "        self.number_of_seats = number_of_seats\n",
    "\n",
    "    def __str__(self):\n",
    "        return \"This bus has {} seats, {} wheels and weighs {} kg and is going {} km/h\".format(self.number_of_seats, self.number_of_wheels, self.weight, self.speed)\n",
    "\n",
    "\n",
    "example_bus = bus(1000, 30)\n",
    "example_bus.accelerate()\n",
    "print(example_bus)\n",
    "example_bus.brake()\n",
    "print(example_bus)"
   ]
  },
  {
   "cell_type": "code",
   "execution_count": 14,
   "metadata": {},
   "outputs": [
    {
     "name": "stdout",
     "output_type": "stream",
     "text": [
      "The car honks: Beep Beep!\n",
      "The bicycle bell rings: Ding Ding!\n",
      "This bus has 30 seats, 6 wheels, weighs 5000 kg, and is going 1 km/h.\n"
     ]
    }
   ],
   "source": [
    "class vehicle:\n",
    "    def __init__(self, number_of_wheels, weight):\n",
    "        self.number_of_wheels = number_of_wheels\n",
    "        self.weight = weight\n",
    "        self.speed = 0\n",
    "\n",
    "    def accelerate(self):\n",
    "        self.speed += 1\n",
    "\n",
    "    def brake(self):\n",
    "        self.speed -= 1\n",
    "\n",
    "class car(vehicle):\n",
    "    def __init__(self, weight, number_of_doors):\n",
    "        super().__init__(4, weight)\n",
    "        self.number_of_doors = number_of_doors\n",
    "\n",
    "    def honk(self):\n",
    "        return \"The car honks: Beep Beep!\"\n",
    "\n",
    "class bicycle(vehicle):\n",
    "    def __init__(self, weight, type):\n",
    "        super().__init__(2, weight)\n",
    "        self.type = type\n",
    "\n",
    "    def ring_bell(self):\n",
    "        return \"The bicycle bell rings: Ding Ding!\"\n",
    "\n",
    "class bus(vehicle):\n",
    "    def __init__(self, weight, number_of_seats):\n",
    "        super().__init__(6, weight)\n",
    "        self.number_of_seats = number_of_seats\n",
    "\n",
    "    def __str__(self):\n",
    "        return f\"This bus has {self.number_of_seats} seats, {self.number_of_wheels} wheels, weighs {self.weight} kg, and is going {self.speed} km/h.\"\n",
    "\n",
    "# Demonstracja działania metod\n",
    "example_car = car(weight=1500, number_of_doors=4)\n",
    "example_bike = bicycle(weight=10, type=\"mountain\")\n",
    "example_bus = bus(weight=5000, number_of_seats=30)\n",
    "\n",
    "# Samochód\n",
    "example_car.accelerate()\n",
    "print(example_car.honk())\n",
    "\n",
    "# Rower\n",
    "example_bike.accelerate()\n",
    "print(example_bike.ring_bell())\n",
    "\n",
    "# Autobus\n",
    "example_bus.accelerate()\n",
    "print(example_bus)\n"
   ]
  },
  {
   "cell_type": "code",
   "execution_count": null,
   "metadata": {},
   "outputs": [],
   "source": []
  }
 ],
 "metadata": {
  "kernelspec": {
   "display_name": "Python 3",
   "language": "python",
   "name": "python3"
  },
  "language_info": {
   "codemirror_mode": {
    "name": "ipython",
    "version": 3
   },
   "file_extension": ".py",
   "mimetype": "text/x-python",
   "name": "python",
   "nbconvert_exporter": "python",
   "pygments_lexer": "ipython3",
   "version": "3.11.4"
  }
 },
 "nbformat": 4,
 "nbformat_minor": 2
}
